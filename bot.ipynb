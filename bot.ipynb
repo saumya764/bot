{
 "cells": [
  {
   "cell_type": "code",
   "execution_count": null,
   "id": "e0f2e790",
   "metadata": {},
   "outputs": [],
   "source": [
    "from telegram import Update\n",
    "from telegram.ext import Application, CommandHandler, MessageHandler, ContextTypes, filters\n",
    "import requests\n",
    "\n",
    "TOKEN = \"7957766656:AAFjWjLfOZ-BJZo47EDZF8_uLvokRGS3qM8\"\n",
    "\n",
    "# /start command\n",
    "async def start(update: Update, context: ContextTypes.DEFAULT_TYPE):\n",
    "    await update.message.reply_text(\n",
    "        \"👋 Namaste! Main aapka AI Chatbot hoon.\\n\"\n",
    "        \"Aap mujhse poochh sakte ho:\\n\"\n",
    "        \"🌾 Mandi rate\\n\"\n",
    "        \"☀ Weather\\n\"\n",
    "        \"🏪 Shop stock\"\n",
    "    )\n",
    "\n",
    "# Handle messages\n",
    "async def reply(update: Update, context: ContextTypes.DEFAULT_TYPE):\n",
    "    text = update.message.text.lower()\n",
    "\n",
    "    if \"mandi\" in text or \"daam\" in text:\n",
    "        await update.message.reply_text(\"🌾 Aaj gehun ka daam 2200 Rs/qtl hai.\")\n",
    "    \n",
    "    elif \"weather\" in text or \"mosam\" in text:\n",
    "        # Example: Static weather (can connect to OpenWeather API later)\n",
    "        await update.message.reply_text(\"☀ Aaj barish hone ki sambhavna hai.\")\n",
    "    \n",
    "    elif \"stock\" in text or \"dukkan\" in text:\n",
    "        await update.message.reply_text(\"📦 Dukaan me 18kg chawal aur 5kg daal available hai.\")\n",
    "    \n",
    "    else:\n",
    "        await update.message.reply_text(\"❓ Mujhe samajh nahi aaya. Aap mandi, weather ya stock poochh sakte ho.\")\n",
    "\n",
    "# Run bot\n",
    "def main():\n",
    "    app = Application.builder().token(TOKEN).build()\n",
    "    app.add_handler(CommandHandler(\"start\", start))\n",
    "    app.add_handler(MessageHandler(filters.TEXT, reply))\n",
    "    print(\"🤖 Bot chal raha hai...\")\n",
    "    app.run_polling()\n",
    "\n",
    "if _name_ == \"_main_\":\n",
    "    main()"
   ]
  }
 ],
 "metadata": {
  "language_info": {
   "name": "python"
  }
 },
 "nbformat": 4,
 "nbformat_minor": 5
}
